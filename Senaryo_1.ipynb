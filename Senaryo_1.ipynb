{
 "cells": [
  {
   "cell_type": "code",
   "execution_count": 1,
   "id": "03f7937a-419f-47c4-b490-b7eb5e52bb3d",
   "metadata": {},
   "outputs": [
    {
     "name": "stdout",
     "output_type": "stream",
     "text": [
      "Requirement already satisfied: openai in c:\\users\\admin\\appdata\\roaming\\jupyterlab-desktop\\jlab_server\\lib\\site-packages (1.35.3)\n",
      "Requirement already satisfied: anyio<5,>=3.5.0 in c:\\users\\admin\\appdata\\roaming\\jupyterlab-desktop\\jlab_server\\lib\\site-packages (from openai) (4.3.0)\n",
      "Requirement already satisfied: distro<2,>=1.7.0 in c:\\users\\admin\\appdata\\roaming\\jupyterlab-desktop\\jlab_server\\lib\\site-packages (from openai) (1.9.0)\n",
      "Requirement already satisfied: httpx<1,>=0.23.0 in c:\\users\\admin\\appdata\\roaming\\jupyterlab-desktop\\jlab_server\\lib\\site-packages (from openai) (0.27.0)\n",
      "Requirement already satisfied: pydantic<3,>=1.9.0 in c:\\users\\admin\\appdata\\roaming\\jupyterlab-desktop\\jlab_server\\lib\\site-packages (from openai) (2.7.4)\n",
      "Requirement already satisfied: sniffio in c:\\users\\admin\\appdata\\roaming\\jupyterlab-desktop\\jlab_server\\lib\\site-packages (from openai) (1.3.1)\n",
      "Requirement already satisfied: tqdm>4 in c:\\users\\admin\\appdata\\roaming\\jupyterlab-desktop\\jlab_server\\lib\\site-packages (from openai) (4.66.4)\n",
      "Requirement already satisfied: typing-extensions<5,>=4.7 in c:\\users\\admin\\appdata\\roaming\\jupyterlab-desktop\\jlab_server\\lib\\site-packages (from openai) (4.11.0)\n",
      "Requirement already satisfied: idna>=2.8 in c:\\users\\admin\\appdata\\roaming\\jupyterlab-desktop\\jlab_server\\lib\\site-packages (from anyio<5,>=3.5.0->openai) (3.7)\n",
      "Requirement already satisfied: certifi in c:\\users\\admin\\appdata\\roaming\\jupyterlab-desktop\\jlab_server\\lib\\site-packages (from httpx<1,>=0.23.0->openai) (2024.2.2)\n",
      "Requirement already satisfied: httpcore==1.* in c:\\users\\admin\\appdata\\roaming\\jupyterlab-desktop\\jlab_server\\lib\\site-packages (from httpx<1,>=0.23.0->openai) (1.0.5)\n",
      "Requirement already satisfied: h11<0.15,>=0.13 in c:\\users\\admin\\appdata\\roaming\\jupyterlab-desktop\\jlab_server\\lib\\site-packages (from httpcore==1.*->httpx<1,>=0.23.0->openai) (0.14.0)\n",
      "Requirement already satisfied: annotated-types>=0.4.0 in c:\\users\\admin\\appdata\\roaming\\jupyterlab-desktop\\jlab_server\\lib\\site-packages (from pydantic<3,>=1.9.0->openai) (0.7.0)\n",
      "Requirement already satisfied: pydantic-core==2.18.4 in c:\\users\\admin\\appdata\\roaming\\jupyterlab-desktop\\jlab_server\\lib\\site-packages (from pydantic<3,>=1.9.0->openai) (2.18.4)\n",
      "Requirement already satisfied: colorama in c:\\users\\admin\\appdata\\roaming\\jupyterlab-desktop\\jlab_server\\lib\\site-packages (from tqdm>4->openai) (0.4.6)\n"
     ]
    }
   ],
   "source": [
    "!pip install openai"
   ]
  },
  {
   "cell_type": "code",
   "execution_count": 2,
   "id": "2b7832c7-bb02-47f4-808e-75c4cfb78c9e",
   "metadata": {},
   "outputs": [
    {
     "name": "stdout",
     "output_type": "stream",
     "text": [
      "Requirement already satisfied: python-dotenv in c:\\users\\admin\\appdata\\roaming\\jupyterlab-desktop\\jlab_server\\lib\\site-packages (1.0.1)\n"
     ]
    }
   ],
   "source": [
    "!pip install python-dotenv"
   ]
  },
  {
   "cell_type": "code",
   "execution_count": 29,
   "id": "5ec89a7b-dccd-482e-a3b6-f5550cc37347",
   "metadata": {},
   "outputs": [],
   "source": [
    "import openai\n",
    "import os\n",
    "from dotenv import load_dotenv, find_dotenv\n",
    "_ = load_dotenv(find_dotenv())\n",
    "\n",
    "openai.api_key  = os.getenv('OPENAI_API_KEY')"
   ]
  },
  {
   "cell_type": "code",
   "execution_count": 30,
   "id": "f77b868e-affe-496a-bc10-9a37c6f688b7",
   "metadata": {},
   "outputs": [],
   "source": [
    "client = openai.OpenAI()\n",
    "\n",
    "def get_completion(prompt, model=\"gpt-3.5-turbo\"):\n",
    "    messages = [{\"role\": \"user\", \"content\": prompt}]\n",
    "    response = client.chat.completions.create(\n",
    "        model=model,\n",
    "        messages=messages,\n",
    "        temperature=0\n",
    "    )\n",
    "    return response.choices[0].message.content"
   ]
  },
  {
   "cell_type": "code",
   "execution_count": 37,
   "id": "8408bcfe-c74b-4e16-b883-7d978265f949",
   "metadata": {},
   "outputs": [],
   "source": [
    "urun_bilgileri_kahve = f\"\"\"\n",
    "\n",
    "KENYA KAHVESİ /\n",
    "Kenya kahvesi çekirdekleri, karmaşık meyve tonlarıyla (bergamot, karpuz, limon) belirgin şarapsı asiditeleri, /\n",
    "çok hoş tat ve aromaları ile iyi bilinir ve ayırt edilirler. /\n",
    "Etkili tatlılıkları ve güçlü karakterleriyle tanınan Kenya kahvelerinin tadım notaları Etiyopya Harrar’a benzer, /\n",
    "ancak Etiyopya kahvelerinden daha gövdeli ve zengin bir lezzete sahiptirler. /\n",
    "\n",
    "EN İYİ KENYA KAHVELERİ /\n",
    "İyi bir Kenya kahvesi canlı, temiz ve berraktır, ince veya narin değildir ve genellikle çok dengelidir. /\n",
    "Aroma ve tat profilinde “Limonlu turunçgil notaları, karabiber tonları” bulunabilir. /\n",
    "İyi ve özgün bir Kenya kahvesinden sonra ağızda kalan tat limonlu, bergamotlu çay tadıdır. /\n",
    "Dünyanın en kaliteli premium gurme kahvelerinden bazıları, /\n",
    "karla kaplı Kenya ve Aberdare Dağlarının eteklerinde ve çevresindeki yüksek platoların volkanik topraklarında, /\n",
    "deniz seviyesinden 1.400 metreden 2.000 metreye kadar değişen kotlarda yetiştirilmektedir. /\n",
    "\n",
    "Kenya kahvesi yetiştirme bölgeleri Nyeri, Ruiri, Thika, Kirinyaga, Mount Kenya’nın batısı, Kiambu ve Muranga’dır. /\n",
    "Birinci sınıf Kenya kahvesinin yetiştiği bu alanlar, vahşi yaşamı destekleyen çok çeşitli yerli orman ekosistemini içerir. /\n",
    "Bir fincan Kenya kahvesinin dünyadaki en iyi beş kahveden biri olarak bilinmesinin bir nedeni, /\n",
    "kahve dünyasında çok farklı lezzete sahip olmasıdır. /\n",
    "En yüksek puan alan Kenya kahvelerinin en fazla aromatik yağlara sahip olduğu söylenen /\n",
    "en büyük çekirdekleri Kenya AA olarak derecelendirilmiştir. /\n",
    "\n",
    "KENYA KAHVESİ İÇİN EN İYİ DEMLEME METODU /\n",
    "Kenya kahvesinin kendine özgü aroma ve tatlarını en iyi alabileceğiniz demleme yöntemi /\n",
    "pour over-manuel demleme (V60, Chemex, French Press vb) yöntemleridir. /\n",
    "Filtre kahve olarak da benzer sonuç alınabilir. Bu yöntemler için en uygun kavurma derecesi ise orta kavrum olacaktır. /\n",
    "\n",
    "KENYA KAHVESİ SATIŞ SEÇENEKLERİ /\n",
    "1 Kg , 4×250 ve 250 Gr’lık ambalaj seçenekleri ile ücretsiz kargo.\n",
    "\n",
    "FİYATLAR\n",
    "1Kg 690 TL, 4x250Gr 750 TL, 250Gr 300 TL\n",
    "\"\"\""
   ]
  },
  {
   "cell_type": "code",
   "execution_count": 38,
   "id": "83ca9358-f3e1-48f3-b369-a204adfd79cb",
   "metadata": {},
   "outputs": [
    {
     "name": "stdout",
     "output_type": "stream",
     "text": [
      "Kenya'nın eşsiz ve zengin kahve çekirdekleriyle tanışmaya hazır mısınız? Kenya kahvesi, bergamot, karpuz ve limon gibi karmaşık meyve tonlarıyla sizi şaşırtacak ve şarapsı asiditeleriyle damaklarınızı şenlendirecek. Etiyopya kahvelerinden daha gövdeli ve zengin bir lezzete sahip olan Kenya kahvesi, premium gurme kahveler arasında ayrıcalıklı bir yere sahiptir. Deniz seviyesinden 1.400 metreye kadar yüksek platolarda yetiştirilen Kenya kahvesi, en iyi beş kahveden biri olarak kabul edilmektedir. Siz de bu eşsiz lezzeti keşfetmek ve deneyimlemek için hemen sipariş verin. Ücretsiz kargo seçenekleriyle 1 Kg, 4x250 ve 250 Gr'lık ambalaj seçenekleri sizleri bekliyor. Kenya kahvesinin en iyi demleme yöntemleriyle hazırlanmış bir fincan kahve, sizi alıp farklı bir lezzet yolculuğuna çıkaracak. Şimdi Kenya kahvesinin eşsiz tadını deneyimlemek için siparişinizi verin ve kahve keyfinizi doruklara çıkarın.\n"
     ]
    }
   ],
   "source": [
    "prompt = f\"\"\"\n",
    "Ürün bilgilerinde köşeli parantez içinde belirtilmiş ürün bilgilerini kullanarak /\n",
    "bir kahve satış web sitesinde yer alacak nitelikte kullanıcıları satın almaya özendirecek ürün tanımı yazabilir misin? /\n",
    "\n",
    "Ürün Bilgileri: [{urun_bilgileri_kahve}]\n",
    "\n",
    "\"\"\"\n",
    "response = get_completion(prompt)\n",
    "print(response)"
   ]
  },
  {
   "cell_type": "code",
   "execution_count": 39,
   "id": "386b7668-24d3-4d79-b4de-d4f378e534ce",
   "metadata": {},
   "outputs": [
    {
     "data": {
      "text/plain": [
       "120"
      ]
     },
     "execution_count": 39,
     "metadata": {},
     "output_type": "execute_result"
    }
   ],
   "source": [
    "len(response.split())"
   ]
  },
  {
   "cell_type": "code",
   "execution_count": 40,
   "id": "35a2e18b-ab25-459e-adb7-2c811fd40a04",
   "metadata": {},
   "outputs": [
    {
     "name": "stdout",
     "output_type": "stream",
     "text": [
      "Kenya Kahvesi, karmaşık meyve tonları ve belirgin şarapsı asiditeleriyle öne çıkan, dünyanın en kaliteli premium gurme kahvelerinden biridir. Limonlu turunçgil notaları ve karabiber tonlarıyla zenginleşen bu kahve, ağızda bıraktığı limonlu, bergamotlu çay tadıyla unutulmaz bir deneyim sunar. Kenya kahvesinin en iyi demleme yöntemi pour over-manuel demleme yöntemleridir, bu sayede kendine özgü aromalarını en iyi şekilde ortaya çıkarır. Ücretsiz kargo seçenekleriyle 1 Kg, 4x250 ve 250 Gr'lık ambalaj seçenekleriyle sunulan Kenya Kahvesi, 690 TL'den başlayan fiyatlarla sizleri bekliyor. Kahve tutkunları için vazgeçilmez bir lezzet deneyimi sunan Kenya Kahvesi, her fincanında farklı bir dünya keşfetmenizi sağlayacak. Şimdi sipariş verin ve bu eşsiz lezzeti keşfedin!\n"
     ]
    }
   ],
   "source": [
    "prompt = f\"\"\"\n",
    "Ürün bilgilerinde köşeli parantez içinde belirtilmiş ürün bilgilerini kullanarak /\n",
    "bir kahve satış web sitesinde yer alacak nitelikte kullanıcıları satın almaya özendirecek ürün tanımı yazabilir misin? /\n",
    "Özellikle kahve aromasına ilişkin bilgileri ve demleme yöntemlerini vurgula. /\n",
    "\n",
    "Ürün Bilgileri: [{urun_bilgileri_kahve}]\n",
    "\n",
    "\"\"\"\n",
    "response = get_completion(prompt)\n",
    "print(response)"
   ]
  },
  {
   "cell_type": "code",
   "execution_count": 41,
   "id": "94b17119-fe3c-47a0-b091-2b8b6dc943e1",
   "metadata": {},
   "outputs": [
    {
     "data": {
      "text/plain": [
       "102"
      ]
     },
     "execution_count": 41,
     "metadata": {},
     "output_type": "execute_result"
    }
   ],
   "source": [
    "len(response.split())"
   ]
  },
  {
   "cell_type": "code",
   "execution_count": 86,
   "id": "c2bb0dfd-53e8-489f-a1fe-a351644104a5",
   "metadata": {},
   "outputs": [
    {
     "name": "stdout",
     "output_type": "stream",
     "text": [
      "Ürün Açıklaması:\n",
      "Kenya kahvesi, karmaşık meyve tonlarıyla (bergamot, karpuz, limon) belirgin şarapsı asiditeleri ve hoş tatlarıyla tanınan bir kahve çeşididir. Etiyopya Harrar'a benzer ancak daha gövdeli ve zengin bir lezzete sahiptir. En iyi Kenya kahveleri canlı, temiz ve dengeli bir tat profiline sahiptir. Limonlu turunçgil notaları ve karabiber tonlarıyla zenginleşen bu kahve, ağızda limonlu, bergamotlu çay tadı bırakır. Kenya'nın yüksek platolarında yetiştirilen bu kahve, dünyanın en kaliteli premium gurme kahvelerinden biridir.\n",
      "\n",
      "Kenya kahvesi için en iyi demleme yöntemi pour over-manuel demleme veya filtre kahvedir. Orta kavurma derecesiyle hazırlanan bu kahve, en iyi aroma ve tatları bu yöntemlerle elde eder.\n",
      "\n",
      "Ambalaj Seçenekleri:\n",
      "- 1 Kg: 690 TL\n",
      "- 4x250 Gr: 750 TL\n",
      "- 250 Gr: 300 TL\n",
      "\n",
      "Ücretsiz kargo avantajıyla Kenya kahvesini farklı ambalaj seçenekleriyle satın alabilir, eşsiz aroması ve lezzetiyle keyifli bir kahve deneyimi yaşayabilirsiniz. Kahve tutkunları için vazgeçilmez bir seçenek olan Kenya kahvesi, en iyi demleme yöntemleriyle hazırlandığında gerçek lezzetini ortaya çıkarır. Kahve dünyasının en özel lezzetlerinden biri olan Kenya kahvesi, her fincanında sizi farklı bir aroma yolculuğuna çıkaracak.\n"
     ]
    }
   ],
   "source": [
    "prompt = f\"\"\"\n",
    "Ürün bilgilerinde köşeli parantez içinde belirtilmiş ürün bilgilerini kullanarak /\n",
    "bir kahve satış web sitesinde yer alacak nitelikte kullanıcıları satın almaya özendirecek ürün tanımı yazabilir misin? /\n",
    "Özellikle kahve aromasına ilişkin bilgileri ve demleme yöntemlerini vurgula. /\n",
    "Ürün tanımını 'Ürün Açıklaması:' ve 'Ambalaj Seçenekleri:' şeklinde iki bölüm halinde hazırla. /\n",
    "Ambalaj seçenekleri bölümü sadece ambalaj bilgilerini ve fiyatlarını içersin. /\n",
    "Diğer tüm bilgiler Ürün Açıklamasında yer alsın. /\n",
    "\n",
    "Ürün Bilgileri: [{urun_bilgileri_kahve}]\n",
    "\n",
    "\"\"\"\n",
    "response = get_completion(prompt)\n",
    "print(response)"
   ]
  },
  {
   "cell_type": "code",
   "execution_count": 87,
   "id": "873ca234-8e46-4dea-8c54-28e8a6ab2bc5",
   "metadata": {},
   "outputs": [
    {
     "name": "stdout",
     "output_type": "stream",
     "text": [
      "{\n",
      "  \"Ürün Açıklaması\": \"Kenya kahvesi, karmaşık meyve tonlarıyla belirgin şarapsı asiditeleri ve hoş tatları ile tanınan bir kahve çeşididir. Limonlu turunçgil notaları ve karabiber tonlarıyla zenginleşen bu kahve, Etiyopya kahvelerinden daha gövdeli ve özgündür.\",\n",
      "  \"Ambalaj Seçenekleri\": \"Kenya kahvesi 1 Kg, 4x250 Gr ve 250 Gr ambalaj seçenekleri ile sunulmaktadır. Tüm ambalaj seçeneklerinde ücretsiz kargo imkanı bulunmaktadır.\",\n",
      "  \"Fiyatlar\": {\n",
      "    \"1Kg\": \"690 TL\",\n",
      "    \"4x250Gr\": \"750 TL\",\n",
      "    \"250Gr\": \"300 TL\"\n",
      "  }\n",
      "}\n"
     ]
    }
   ],
   "source": [
    "prompt = f\"\"\"\n",
    "Ürün bilgilerinde köşeli parantez içinde belirtilmiş ürün bilgilerini kullanarak /\n",
    "bir kahve satış web sitesinde yer alacak nitelikte kullanıcıları satın almaya özendirecek ürün tanımı yazabilir misin? /\n",
    "Özellikle kahve aromasına ilişkin bilgileri ve demleme yöntemlerini vurgula. /\n",
    "Ürün tanımını 'Ürün Açıklaması', 'Ambalaj Seçenekleri' ve \"Fiyatlar\" şeklinde üç bölüm halinde hazırla. /\n",
    "\n",
    "Ürün tanımını bir JSON objesi olarak hazırla. Objenin anahtarları \"Ürün Açıklaması\", \"Ambalaj Seçenekleri\", \"Fiyatlar\". /\n",
    "\n",
    "Ürün Bilgileri: [{urun_bilgileri_kahve}]\n",
    "\n",
    "\"\"\"\n",
    "response = get_completion(prompt)\n",
    "print(response)"
   ]
  },
  {
   "cell_type": "code",
   "execution_count": 88,
   "id": "74b1e1eb-712c-4f7f-9340-7fc2e4a19c46",
   "metadata": {},
   "outputs": [
    {
     "name": "stdout",
     "output_type": "stream",
     "text": [
      "{\n",
      "  \"Ürün Açıklaması\": \"Kenya kahvesi, karmaşık meyve tonlarıyla (bergamot, karpuz, limon) belirgin şarapsı asiditeleri ve hoş tatlarıyla tanınan bir kahvedir. Etiyopya kahvelerinden daha gövdeli ve zengin bir lezzete sahiptir. En iyi Kenya kahveleri canlı, temiz ve dengelidir, limonlu turunçgil notaları ve karabiber tonları içerir. Kenya kahvesi, pour over-manuel demleme yöntemleriyle en iyi sonuçları verir.\",\n",
      "  \"Ambalaj Seçenekleri\": [\"1 Kg\", \"4x250 Gr\", \"250 Gr\"],\n",
      "  \"Fiyatlar\": {\"1 Kg\": 690, \"4x250 Gr\": 750, \"250 Gr\": 300}\n",
      "}\n"
     ]
    }
   ],
   "source": [
    "prompt = f\"\"\"\n",
    "Ürün bilgilerinde köşeli parantez içinde belirtilmiş ürün bilgilerini kullanarak /\n",
    "bir kahve satış web sitesinde yer alacak nitelikte kullanıcıları satın almaya özendirecek ürün tanımı yazabilir misin? /\n",
    "Özellikle kahve aromasına ilişkin bilgileri ve demleme yöntemlerini vurgula. /\n",
    "Ürün tanımını 'Ürün Açıklaması', 'Ambalaj Seçenekleri' ve \"Fiyatlar\" şeklinde üç bölüm halinde hazırla. /\n",
    "Ambalaj Seçenekleri bölümü ambalaj seçenekleri listesini içersin. /\n",
    "Fiyatlar bölümü ambalaj seçeneklerinin fiyatlarını içersin. /\n",
    "Diğer tüm bilgiler Ürün Açıklamasında yer alsın. /\n",
    "Ürün tanımını bir JSON objesi olarak hazırla. Objenin anahtarları \"Ürün Açıklaması\", \"Ambalaj Seçenekleri\", \"Fiyatlar\". /\n",
    "\n",
    "Ürün Bilgileri: [{urun_bilgileri_kahve}]\n",
    "\n",
    "\"\"\"\n",
    "response = get_completion(prompt)\n",
    "print(response)"
   ]
  },
  {
   "cell_type": "code",
   "execution_count": 59,
   "id": "18d524e8-6698-42f7-8b8c-83d69d01af37",
   "metadata": {},
   "outputs": [
    {
     "name": "stdout",
     "output_type": "stream",
     "text": [
      "Ambalaj seçeneklerini en düşük fiyattan en yükseğe doğru sıralarsak:\n",
      "\n",
      "1. 250Gr - 300 TL\n",
      "2. 1Kg - 690 TL\n",
      "3. 4x250Gr - 750 TL\n"
     ]
    }
   ],
   "source": [
    "prompt = f\"\"\"\n",
    "Ürün bilgilerinde köşeli parantez içinde belirtilmiş ürün bilgilerini kullanarak ambalaj seçeneklerini /\n",
    "en düşük fiyattan en yükseğe sırala. /\n",
    "\n",
    "Ürün Bilgileri: [{urun_bilgileri_kahve}]\n",
    "\n",
    "\"\"\"\n",
    "response = get_completion(prompt)\n",
    "print(response)"
   ]
  },
  {
   "cell_type": "code",
   "execution_count": null,
   "id": "f63e0413-ed15-4cd4-a16c-0787d133c776",
   "metadata": {},
   "outputs": [],
   "source": []
  }
 ],
 "metadata": {
  "kernelspec": {
   "display_name": "Python 3 (ipykernel)",
   "language": "python",
   "name": "python3"
  },
  "language_info": {
   "codemirror_mode": {
    "name": "ipython",
    "version": 3
   },
   "file_extension": ".py",
   "mimetype": "text/x-python",
   "name": "python",
   "nbconvert_exporter": "python",
   "pygments_lexer": "ipython3",
   "version": "3.12.3"
  }
 },
 "nbformat": 4,
 "nbformat_minor": 5
}
