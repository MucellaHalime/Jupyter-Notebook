{
 "cells": [
  {
   "cell_type": "code",
   "execution_count": null,
   "id": "03f7937a-419f-47c4-b490-b7eb5e52bb3d",
   "metadata": {},
   "outputs": [],
   "source": [
    "!pip install openai"
   ]
  },
  {
   "cell_type": "code",
   "execution_count": null,
   "id": "2b7832c7-bb02-47f4-808e-75c4cfb78c9e",
   "metadata": {},
   "outputs": [],
   "source": [
    "!pip install python-dotenv"
   ]
  },
  {
   "cell_type": "code",
   "execution_count": null,
   "id": "5ec89a7b-dccd-482e-a3b6-f5550cc37347",
   "metadata": {},
   "outputs": [],
   "source": [
    "import openai\n",
    "import os\n",
    "from dotenv import load_dotenv, find_dotenv\n",
    "_ = load_dotenv(find_dotenv())\n",
    "\n",
    "openai.api_key  = os.getenv('OPENAI_API_KEY')"
   ]
  },
  {
   "cell_type": "code",
   "execution_count": null,
   "id": "f77b868e-affe-496a-bc10-9a37c6f688b7",
   "metadata": {},
   "outputs": [],
   "source": [
    "client = openai.OpenAI()\n",
    "\n",
    "def get_completion(prompt, model=\"gpt-4o\"):\n",
    "    messages = [{\"role\": \"user\", \"content\": prompt}]\n",
    "    response = client.chat.completions.create(\n",
    "        model=model,\n",
    "        messages=messages,\n",
    "        temperature=0\n",
    "    )\n",
    "    return response.choices[0].message.content"
   ]
  },
  {
   "cell_type": "code",
   "execution_count": null,
   "id": "8408bcfe-c74b-4e16-b883-7d978265f949",
   "metadata": {},
   "outputs": [],
   "source": [
    "urun_bilgileri_kahve = f\"\"\"\n",
    "\n",
    "KENYA KAHVESİ /\n",
    "Kenya kahvesi çekirdekleri, karmaşık meyve tonlarıyla (bergamot, karpuz, limon) belirgin şarapsı asiditeleri, /\n",
    "çok hoş tat ve aromaları ile iyi bilinir ve ayırt edilirler. /\n",
    "Etkili tatlılıkları ve güçlü karakterleriyle tanınan Kenya kahvelerinin tadım notaları Etiyopya Harrar’a benzer, /\n",
    "ancak Etiyopya kahvelerinden daha gövdeli ve zengin bir lezzete sahiptirler. /\n",
    "\n",
    "EN İYİ KENYA KAHVELERİ /\n",
    "İyi bir Kenya kahvesi canlı, temiz ve berraktır, ince veya narin değildir ve genellikle çok dengelidir. /\n",
    "Aroma ve tat profilinde “Limonlu turunçgil notaları, karabiber tonları” bulunabilir. /\n",
    "İyi ve özgün bir Kenya kahvesinden sonra ağızda kalan tat limonlu, bergamotlu çay tadıdır. /\n",
    "Dünyanın en kaliteli premium gurme kahvelerinden bazıları, /\n",
    "karla kaplı Kenya ve Aberdare Dağlarının eteklerinde ve çevresindeki yüksek platoların volkanik topraklarında, /\n",
    "deniz seviyesinden 1.400 metreden 2.000 metreye kadar değişen kotlarda yetiştirilmektedir. /\n",
    "\n",
    "Kenya kahvesi yetiştirme bölgeleri Nyeri, Ruiri, Thika, Kirinyaga, Mount Kenya’nın batısı, Kiambu ve Muranga’dır. /\n",
    "Birinci sınıf Kenya kahvesinin yetiştiği bu alanlar, vahşi yaşamı destekleyen çok çeşitli yerli orman ekosistemini içerir. /\n",
    "Bir fincan Kenya kahvesinin dünyadaki en iyi beş kahveden biri olarak bilinmesinin bir nedeni, /\n",
    "kahve dünyasında çok farklı lezzete sahip olmasıdır. /\n",
    "En yüksek puan alan Kenya kahvelerinin en fazla aromatik yağlara sahip olduğu söylenen /\n",
    "en büyük çekirdekleri Kenya AA olarak derecelendirilmiştir. /\n",
    "\n",
    "KENYA KAHVESİ İÇİN EN İYİ DEMLEME METODU /\n",
    "Kenya kahvesinin kendine özgü aroma ve tatlarını en iyi alabileceğiniz demleme yöntemi /\n",
    "pour over-manuel demleme (V60, Chemex, French Press vb) yöntemleridir. /\n",
    "Filtre kahve olarak da benzer sonuç alınabilir. Bu yöntemler için en uygun kavurma derecesi ise orta kavrum olacaktır. /\n",
    "\n",
    "KENYA KAHVESİ SATIŞ SEÇENEKLERİ /\n",
    "1 Kg , 4×250 ve 250 Gr’lık ambalaj seçenekleri ile ücretsiz kargo.\n",
    "\n",
    "FİYATLAR\n",
    "1Kg 690 TL, 4x250Gr 750 TL, 250Gr 300 TL\n",
    "\"\"\""
   ]
  },
  {
   "cell_type": "code",
   "execution_count": null,
   "id": "83ca9358-f3e1-48f3-b369-a204adfd79cb",
   "metadata": {},
   "outputs": [],
   "source": [
    "prompt = f\"\"\"\n",
    "Ürün bilgilerinde köşeli parantez içinde belirtilmiş ürün bilgilerini kullanarak /\n",
    "bir kahve satış web sitesinde yer alacak nitelikte kullanıcıları satın almaya özendirecek ürün tanımı yazabilir misin? /\n",
    "\n",
    "Ürün Bilgileri: [{urun_bilgileri_kahve}]\n",
    "\n",
    "\"\"\"\n",
    "response = get_completion(prompt)\n",
    "print(response)"
   ]
  },
  {
   "cell_type": "code",
   "execution_count": null,
   "id": "386b7668-24d3-4d79-b4de-d4f378e534ce",
   "metadata": {},
   "outputs": [],
   "source": [
    "len(response.split())"
   ]
  },
  {
   "cell_type": "code",
   "execution_count": null,
   "id": "35a2e18b-ab25-459e-adb7-2c811fd40a04",
   "metadata": {},
   "outputs": [],
   "source": [
    "prompt = f\"\"\"\n",
    "Ürün bilgilerinde köşeli parantez içinde belirtilmiş ürün bilgilerini kullanarak /\n",
    "bir kahve satış web sitesinde yer alacak nitelikte kullanıcıları satın almaya özendirecek ürün tanımı yazabilir misin? /\n",
    "Özellikle kahve aromasına ilişkin bilgileri ve demleme yöntemlerini vurgula. /\n",
    "\n",
    "Ürün Bilgileri: [{urun_bilgileri_kahve}]\n",
    "\n",
    "\"\"\"\n",
    "response = get_completion(prompt)\n",
    "print(response)"
   ]
  },
  {
   "cell_type": "code",
   "execution_count": null,
   "id": "94b17119-fe3c-47a0-b091-2b8b6dc943e1",
   "metadata": {},
   "outputs": [],
   "source": [
    "len(response.split())"
   ]
  },
  {
   "cell_type": "code",
   "execution_count": null,
   "id": "c2bb0dfd-53e8-489f-a1fe-a351644104a5",
   "metadata": {},
   "outputs": [],
   "source": [
    "prompt = f\"\"\"\n",
    "Ürün bilgilerinde köşeli parantez içinde belirtilmiş ürün bilgilerini kullanarak /\n",
    "bir kahve satış web sitesinde yer alacak nitelikte kullanıcıları satın almaya özendirecek ürün tanımı yazabilir misin? /\n",
    "Özellikle kahve aromasına ilişkin bilgileri ve demleme yöntemlerini vurgula. /\n",
    "Ürün tanımını 'Ürün Açıklaması:' ve 'Ambalaj Seçenekleri:' şeklinde iki bölüm halinde hazırla. /\n",
    "Ambalaj seçenekleri bölümü sadece ambalaj bilgilerini ve fiyatlarını içersin. /\n",
    "Diğer tüm bilgiler Ürün Açıklamasında yer alsın. /\n",
    "\n",
    "Ürün Bilgileri: [{urun_bilgileri_kahve}]\n",
    "\n",
    "\"\"\"\n",
    "response = get_completion(prompt)\n",
    "print(response)"
   ]
  },
  {
   "cell_type": "code",
   "execution_count": null,
   "id": "873ca234-8e46-4dea-8c54-28e8a6ab2bc5",
   "metadata": {},
   "outputs": [],
   "source": [
    "prompt = f\"\"\"\n",
    "Ürün bilgilerinde köşeli parantez içinde belirtilmiş ürün bilgilerini kullanarak /\n",
    "bir kahve satış web sitesinde yer alacak nitelikte kullanıcıları satın almaya özendirecek ürün tanımı yazabilir misin? /\n",
    "Özellikle kahve aromasına ilişkin bilgileri ve demleme yöntemlerini vurgula. /\n",
    "Ürün tanımını 'Ürün Açıklaması', 'Ambalaj Seçenekleri' ve \"Fiyatlar\" şeklinde üç bölüm halinde hazırla. /\n",
    "\n",
    "Ürün tanımını bir JSON objesi olarak hazırla. Objenin anahtarları \"Ürün Açıklaması\", \"Ambalaj Seçenekleri\", \"Fiyatlar\". /\n",
    "\n",
    "Ürün Bilgileri: [{urun_bilgileri_kahve}]\n",
    "\n",
    "\"\"\"\n",
    "response = get_completion(prompt)\n",
    "print(response)"
   ]
  },
  {
   "cell_type": "code",
   "execution_count": null,
   "id": "74b1e1eb-712c-4f7f-9340-7fc2e4a19c46",
   "metadata": {},
   "outputs": [],
   "source": [
    "prompt = f\"\"\"\n",
    "Ürün bilgilerinde köşeli parantez içinde belirtilmiş ürün bilgilerini kullanarak /\n",
    "bir kahve satış web sitesinde yer alacak nitelikte kullanıcıları satın almaya özendirecek ürün tanımı yazabilir misin? /\n",
    "Özellikle kahve aromasına ilişkin bilgileri ve demleme yöntemlerini vurgula. /\n",
    "Ürün tanımını 'Ürün Açıklaması', 'Ambalaj Seçenekleri' ve \"Fiyatlar\" şeklinde üç bölüm halinde hazırla. /\n",
    "Ambalaj Seçenekleri bölümü ambalaj seçenekleri listesini içersin. /\n",
    "Fiyatlar bölümü ambalaj seçeneklerinin fiyatlarını içersin. /\n",
    "Diğer tüm bilgiler Ürün Açıklamasında yer alsın. /\n",
    "Ürün tanımını bir JSON objesi olarak hazırla. Objenin anahtarları \"Ürün Açıklaması\", \"Ambalaj Seçenekleri\", \"Fiyatlar\". /\n",
    "\n",
    "Ürün Bilgileri: [{urun_bilgileri_kahve}]\n",
    "\n",
    "\"\"\"\n",
    "response = get_completion(prompt)\n",
    "print(response)"
   ]
  },
  {
   "cell_type": "code",
   "execution_count": null,
   "id": "18d524e8-6698-42f7-8b8c-83d69d01af37",
   "metadata": {},
   "outputs": [],
   "source": [
    "prompt = f\"\"\"\n",
    "Ürün bilgilerinde köşeli parantez içinde belirtilmiş ürün bilgilerini kullanarak ambalaj seçeneklerini /\n",
    "en düşük fiyattan en yükseğe sırala. /\n",
    "\n",
    "Ürün Bilgileri: [{urun_bilgileri_kahve}]\n",
    "\n",
    "\"\"\"\n",
    "response = get_completion(prompt)\n",
    "print(response)"
   ]
  },
  {
   "cell_type": "code",
   "execution_count": null,
   "id": "f63e0413-ed15-4cd4-a16c-0787d133c776",
   "metadata": {},
   "outputs": [],
   "source": []
  }
 ],
 "metadata": {
  "kernelspec": {
   "display_name": "Python 3 (ipykernel)",
   "language": "python",
   "name": "python3"
  },
  "language_info": {
   "codemirror_mode": {
    "name": "ipython",
    "version": 3
   },
   "file_extension": ".py",
   "mimetype": "text/x-python",
   "name": "python",
   "nbconvert_exporter": "python",
   "pygments_lexer": "ipython3",
   "version": "3.12.4"
  }
 },
 "nbformat": 4,
 "nbformat_minor": 5
}
